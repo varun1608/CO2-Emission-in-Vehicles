{
 "cells": [
  {
   "cell_type": "code",
   "execution_count": 57,
   "id": "067a3925",
   "metadata": {},
   "outputs": [],
   "source": [
    "import pandas as pd\n",
    "import numpy as np\n",
    "from collections import Counter as c\n",
    "import seaborn as sns \n",
    "import matplotlib.pyplot as plt\n",
    "from sklearn.model_selection import train_test_split\n",
    "from sklearn.metrics import accuracy_score,mean_squared_error,mean_absolute_error\n",
    "import pickle\n",
    "from sklearn.linear_model import LinearRegression"
   ]
  },
  {
   "cell_type": "code",
   "execution_count": 58,
   "id": "6b32d6aa",
   "metadata": {},
   "outputs": [
    {
     "data": {
      "text/html": [
       "<div>\n",
       "<style scoped>\n",
       "    .dataframe tbody tr th:only-of-type {\n",
       "        vertical-align: middle;\n",
       "    }\n",
       "\n",
       "    .dataframe tbody tr th {\n",
       "        vertical-align: top;\n",
       "    }\n",
       "\n",
       "    .dataframe thead th {\n",
       "        text-align: right;\n",
       "    }\n",
       "</style>\n",
       "<table border=\"1\" class=\"dataframe\">\n",
       "  <thead>\n",
       "    <tr style=\"text-align: right;\">\n",
       "      <th></th>\n",
       "      <th>MODEL</th>\n",
       "      <th>MAKE</th>\n",
       "      <th>MODEL.1</th>\n",
       "      <th>VEHICLE CLASS</th>\n",
       "      <th>ENGINE_SIZE</th>\n",
       "      <th>CYLINDERS</th>\n",
       "      <th>TRANSMISSION</th>\n",
       "      <th>FUEL</th>\n",
       "      <th>FUEL_CONSUMPTION*</th>\n",
       "      <th>Unnamed: 9</th>\n",
       "      <th>Unnamed: 10</th>\n",
       "      <th>Unnamed: 11</th>\n",
       "      <th>CO2_EMISSIONS</th>\n",
       "    </tr>\n",
       "  </thead>\n",
       "  <tbody>\n",
       "    <tr>\n",
       "      <th>0</th>\n",
       "      <td>2001</td>\n",
       "      <td>ACURA</td>\n",
       "      <td>1.7EL</td>\n",
       "      <td>COMPACT</td>\n",
       "      <td>1.7</td>\n",
       "      <td>4</td>\n",
       "      <td>A4</td>\n",
       "      <td>X</td>\n",
       "      <td>9.3</td>\n",
       "      <td>7.2</td>\n",
       "      <td>8.3</td>\n",
       "      <td>34</td>\n",
       "      <td>191</td>\n",
       "    </tr>\n",
       "    <tr>\n",
       "      <th>1</th>\n",
       "      <td>2001</td>\n",
       "      <td>ACURA</td>\n",
       "      <td>1.7EL</td>\n",
       "      <td>COMPACT</td>\n",
       "      <td>1.7</td>\n",
       "      <td>4</td>\n",
       "      <td>M5</td>\n",
       "      <td>X</td>\n",
       "      <td>8.9</td>\n",
       "      <td>7.4</td>\n",
       "      <td>8.3</td>\n",
       "      <td>34</td>\n",
       "      <td>191</td>\n",
       "    </tr>\n",
       "    <tr>\n",
       "      <th>2</th>\n",
       "      <td>2001</td>\n",
       "      <td>ACURA</td>\n",
       "      <td>3.2CL</td>\n",
       "      <td>COMPACT</td>\n",
       "      <td>3.2</td>\n",
       "      <td>6</td>\n",
       "      <td>AS5</td>\n",
       "      <td>Z</td>\n",
       "      <td>13.7</td>\n",
       "      <td>8.8</td>\n",
       "      <td>11.5</td>\n",
       "      <td>25</td>\n",
       "      <td>265</td>\n",
       "    </tr>\n",
       "    <tr>\n",
       "      <th>3</th>\n",
       "      <td>2001</td>\n",
       "      <td>ACURA</td>\n",
       "      <td>3.2TL</td>\n",
       "      <td>MID-SIZE</td>\n",
       "      <td>3.2</td>\n",
       "      <td>6</td>\n",
       "      <td>AS5</td>\n",
       "      <td>Z</td>\n",
       "      <td>13.8</td>\n",
       "      <td>8.8</td>\n",
       "      <td>11.6</td>\n",
       "      <td>24</td>\n",
       "      <td>267</td>\n",
       "    </tr>\n",
       "    <tr>\n",
       "      <th>4</th>\n",
       "      <td>2001</td>\n",
       "      <td>ACURA</td>\n",
       "      <td>3.5RL</td>\n",
       "      <td>MID-SIZE</td>\n",
       "      <td>3.5</td>\n",
       "      <td>6</td>\n",
       "      <td>A4</td>\n",
       "      <td>Z</td>\n",
       "      <td>15.0</td>\n",
       "      <td>10.9</td>\n",
       "      <td>13.1</td>\n",
       "      <td>22</td>\n",
       "      <td>301</td>\n",
       "    </tr>\n",
       "  </tbody>\n",
       "</table>\n",
       "</div>"
      ],
      "text/plain": [
       "   MODEL   MAKE MODEL.1 VEHICLE CLASS  ENGINE_SIZE  CYLINDERS TRANSMISSION  \\\n",
       "0   2001  ACURA   1.7EL       COMPACT          1.7          4           A4   \n",
       "1   2001  ACURA   1.7EL       COMPACT          1.7          4           M5   \n",
       "2   2001  ACURA   3.2CL       COMPACT          3.2          6          AS5   \n",
       "3   2001  ACURA   3.2TL      MID-SIZE          3.2          6          AS5   \n",
       "4   2001  ACURA   3.5RL      MID-SIZE          3.5          6           A4   \n",
       "\n",
       "  FUEL  FUEL_CONSUMPTION*  Unnamed: 9  Unnamed: 10  Unnamed: 11  CO2_EMISSIONS  \n",
       "0    X                9.3         7.2          8.3           34            191  \n",
       "1    X                8.9         7.4          8.3           34            191  \n",
       "2    Z               13.7         8.8         11.5           25            265  \n",
       "3    Z               13.8         8.8         11.6           24            267  \n",
       "4    Z               15.0        10.9         13.1           22            301  "
      ]
     },
     "execution_count": 58,
     "metadata": {},
     "output_type": "execute_result"
    }
   ],
   "source": [
    "df=pd.read_csv('./sample.csv')\n",
    "df.head()"
   ]
  },
  {
   "cell_type": "code",
   "execution_count": 59,
   "id": "bcd49486",
   "metadata": {},
   "outputs": [
    {
     "data": {
      "text/plain": [
       "Index(['MAKE', 'MODEL.1', 'VEHICLE CLASS', 'ENGINE_SIZE', 'CYLINDERS',\n",
       "       'TRANSMISSION', 'FUEL', 'FUEL_CONSUMPTION*', 'Unnamed: 9',\n",
       "       'Unnamed: 10', 'Unnamed: 11', 'CO2_EMISSIONS'],\n",
       "      dtype='object')"
      ]
     },
     "execution_count": 59,
     "metadata": {},
     "output_type": "execute_result"
    }
   ],
   "source": [
    "del df['MODEL']\n",
    "df.columns"
   ]
  },
  {
   "cell_type": "code",
   "execution_count": 60,
   "id": "7fc2f9d8",
   "metadata": {},
   "outputs": [],
   "source": [
    "df.columns=['Make','MODEL.1','Vehicles_class','Engine_Size','Cylinders','Transmission','Fuel_Type','Fuel_Consumption_City','Fuel_Consumption_Hwy','Fuel_Consumption_Comb(L/100km)','Fuel_Consumption_Comd(mpg)','CO2_Emissions']\n"
   ]
  },
  {
   "cell_type": "code",
   "execution_count": 61,
   "id": "dafe73aa",
   "metadata": {},
   "outputs": [
    {
     "data": {
      "text/plain": [
       "Index(['Make', 'MODEL.1', 'Vehicles_class', 'Engine_Size', 'Cylinders',\n",
       "       'Transmission', 'Fuel_Type', 'Fuel_Consumption_City',\n",
       "       'Fuel_Consumption_Hwy', 'Fuel_Consumption_Comb(L/100km)',\n",
       "       'Fuel_Consumption_Comd(mpg)', 'CO2_Emissions'],\n",
       "      dtype='object')"
      ]
     },
     "execution_count": 61,
     "metadata": {},
     "output_type": "execute_result"
    }
   ],
   "source": [
    "df.columns"
   ]
  },
  {
   "cell_type": "code",
   "execution_count": 62,
   "id": "6e564706",
   "metadata": {},
   "outputs": [
    {
     "name": "stdout",
     "output_type": "stream",
     "text": [
      "<class 'pandas.core.frame.DataFrame'>\n",
      "RangeIndex: 679 entries, 0 to 678\n",
      "Data columns (total 12 columns):\n",
      " #   Column                          Non-Null Count  Dtype  \n",
      "---  ------                          --------------  -----  \n",
      " 0   Make                            679 non-null    object \n",
      " 1   MODEL.1                         679 non-null    object \n",
      " 2   Vehicles_class                  679 non-null    object \n",
      " 3   Engine_Size                     679 non-null    float64\n",
      " 4   Cylinders                       679 non-null    int64  \n",
      " 5   Transmission                    679 non-null    object \n",
      " 6   Fuel_Type                       679 non-null    object \n",
      " 7   Fuel_Consumption_City           679 non-null    float64\n",
      " 8   Fuel_Consumption_Hwy            679 non-null    float64\n",
      " 9   Fuel_Consumption_Comb(L/100km)  679 non-null    float64\n",
      " 10  Fuel_Consumption_Comd(mpg)      679 non-null    int64  \n",
      " 11  CO2_Emissions                   679 non-null    int64  \n",
      "dtypes: float64(4), int64(3), object(5)\n",
      "memory usage: 63.8+ KB\n"
     ]
    }
   ],
   "source": [
    "df.info()"
   ]
  },
  {
   "cell_type": "code",
   "execution_count": 63,
   "id": "80a620ea",
   "metadata": {},
   "outputs": [
    {
     "data": {
      "text/html": [
       "<div>\n",
       "<style scoped>\n",
       "    .dataframe tbody tr th:only-of-type {\n",
       "        vertical-align: middle;\n",
       "    }\n",
       "\n",
       "    .dataframe tbody tr th {\n",
       "        vertical-align: top;\n",
       "    }\n",
       "\n",
       "    .dataframe thead th {\n",
       "        text-align: right;\n",
       "    }\n",
       "</style>\n",
       "<table border=\"1\" class=\"dataframe\">\n",
       "  <thead>\n",
       "    <tr style=\"text-align: right;\">\n",
       "      <th></th>\n",
       "      <th>Engine_Size</th>\n",
       "      <th>Cylinders</th>\n",
       "      <th>Fuel_Consumption_City</th>\n",
       "      <th>Fuel_Consumption_Hwy</th>\n",
       "      <th>Fuel_Consumption_Comb(L/100km)</th>\n",
       "      <th>Fuel_Consumption_Comd(mpg)</th>\n",
       "      <th>CO2_Emissions</th>\n",
       "    </tr>\n",
       "  </thead>\n",
       "  <tbody>\n",
       "    <tr>\n",
       "      <th>count</th>\n",
       "      <td>679.000000</td>\n",
       "      <td>679.000000</td>\n",
       "      <td>679.000000</td>\n",
       "      <td>679.000000</td>\n",
       "      <td>679.000000</td>\n",
       "      <td>679.000000</td>\n",
       "      <td>679.000000</td>\n",
       "    </tr>\n",
       "    <tr>\n",
       "      <th>mean</th>\n",
       "      <td>3.252577</td>\n",
       "      <td>5.798233</td>\n",
       "      <td>14.591900</td>\n",
       "      <td>10.613844</td>\n",
       "      <td>12.802798</td>\n",
       "      <td>23.107511</td>\n",
       "      <td>293.656848</td>\n",
       "    </tr>\n",
       "    <tr>\n",
       "      <th>std</th>\n",
       "      <td>1.203751</td>\n",
       "      <td>1.531073</td>\n",
       "      <td>3.025654</td>\n",
       "      <td>2.357724</td>\n",
       "      <td>2.685590</td>\n",
       "      <td>5.308083</td>\n",
       "      <td>60.372456</td>\n",
       "    </tr>\n",
       "    <tr>\n",
       "      <th>min</th>\n",
       "      <td>1.000000</td>\n",
       "      <td>3.000000</td>\n",
       "      <td>4.900000</td>\n",
       "      <td>4.000000</td>\n",
       "      <td>4.500000</td>\n",
       "      <td>14.000000</td>\n",
       "      <td>104.000000</td>\n",
       "    </tr>\n",
       "    <tr>\n",
       "      <th>25%</th>\n",
       "      <td>2.200000</td>\n",
       "      <td>4.000000</td>\n",
       "      <td>12.700000</td>\n",
       "      <td>9.000000</td>\n",
       "      <td>11.000000</td>\n",
       "      <td>19.000000</td>\n",
       "      <td>253.000000</td>\n",
       "    </tr>\n",
       "    <tr>\n",
       "      <th>50%</th>\n",
       "      <td>3.000000</td>\n",
       "      <td>6.000000</td>\n",
       "      <td>14.300000</td>\n",
       "      <td>10.100000</td>\n",
       "      <td>12.300000</td>\n",
       "      <td>23.000000</td>\n",
       "      <td>283.000000</td>\n",
       "    </tr>\n",
       "    <tr>\n",
       "      <th>75%</th>\n",
       "      <td>4.200000</td>\n",
       "      <td>6.000000</td>\n",
       "      <td>16.650000</td>\n",
       "      <td>12.500000</td>\n",
       "      <td>14.850000</td>\n",
       "      <td>26.000000</td>\n",
       "      <td>340.000000</td>\n",
       "    </tr>\n",
       "    <tr>\n",
       "      <th>max</th>\n",
       "      <td>8.000000</td>\n",
       "      <td>12.000000</td>\n",
       "      <td>23.200000</td>\n",
       "      <td>18.000000</td>\n",
       "      <td>20.800000</td>\n",
       "      <td>63.000000</td>\n",
       "      <td>478.000000</td>\n",
       "    </tr>\n",
       "  </tbody>\n",
       "</table>\n",
       "</div>"
      ],
      "text/plain": [
       "       Engine_Size   Cylinders  Fuel_Consumption_City  Fuel_Consumption_Hwy  \\\n",
       "count   679.000000  679.000000             679.000000            679.000000   \n",
       "mean      3.252577    5.798233              14.591900             10.613844   \n",
       "std       1.203751    1.531073               3.025654              2.357724   \n",
       "min       1.000000    3.000000               4.900000              4.000000   \n",
       "25%       2.200000    4.000000              12.700000              9.000000   \n",
       "50%       3.000000    6.000000              14.300000             10.100000   \n",
       "75%       4.200000    6.000000              16.650000             12.500000   \n",
       "max       8.000000   12.000000              23.200000             18.000000   \n",
       "\n",
       "       Fuel_Consumption_Comb(L/100km)  Fuel_Consumption_Comd(mpg)  \\\n",
       "count                      679.000000                  679.000000   \n",
       "mean                        12.802798                   23.107511   \n",
       "std                          2.685590                    5.308083   \n",
       "min                          4.500000                   14.000000   \n",
       "25%                         11.000000                   19.000000   \n",
       "50%                         12.300000                   23.000000   \n",
       "75%                         14.850000                   26.000000   \n",
       "max                         20.800000                   63.000000   \n",
       "\n",
       "       CO2_Emissions  \n",
       "count     679.000000  \n",
       "mean      293.656848  \n",
       "std        60.372456  \n",
       "min       104.000000  \n",
       "25%       253.000000  \n",
       "50%       283.000000  \n",
       "75%       340.000000  \n",
       "max       478.000000  "
      ]
     },
     "execution_count": 63,
     "metadata": {},
     "output_type": "execute_result"
    }
   ],
   "source": [
    "df.describe()"
   ]
  },
  {
   "cell_type": "code",
   "execution_count": 64,
   "id": "a71057a1",
   "metadata": {},
   "outputs": [
    {
     "data": {
      "text/plain": [
       "(array([dtype('int64'), dtype('float64'), dtype('O')], dtype=object),\n",
       " array([3, 4, 5], dtype=int64))"
      ]
     },
     "execution_count": 64,
     "metadata": {},
     "output_type": "execute_result"
    }
   ],
   "source": [
    "np.unique(df.dtypes,return_counts=True)"
   ]
  },
  {
   "cell_type": "code",
   "execution_count": 65,
   "id": "43a853fc",
   "metadata": {},
   "outputs": [],
   "source": [
    "cat=df.dtypes[df.dtypes=='O'].index.values"
   ]
  },
  {
   "cell_type": "code",
   "execution_count": 66,
   "id": "d438be30",
   "metadata": {},
   "outputs": [
    {
     "data": {
      "text/plain": [
       "array(['Make', 'MODEL.1', 'Vehicles_class', 'Transmission', 'Fuel_Type'],\n",
       "      dtype=object)"
      ]
     },
     "execution_count": 66,
     "metadata": {},
     "output_type": "execute_result"
    }
   ],
   "source": [
    "cat"
   ]
  },
  {
   "cell_type": "code",
   "execution_count": 67,
   "id": "8f976333",
   "metadata": {},
   "outputs": [
    {
     "name": "stdout",
     "output_type": "stream",
     "text": [
      "Column :  Make\n",
      "Count of classes :  34\n",
      "Counter({'FORD': 63, 'CHEVROLET': 60, 'DODGE': 47, 'BMW': 43, 'GMC': 41, 'TOYOTA': 36, 'VOLKSWAGEN': 35, 'MERCEDES-BENZ': 29, 'CHRYSLER': 25, 'AUDI': 24, 'MAZDA': 24, 'VOLVO': 24, 'NISSAN': 23, 'PONTIAC': 19, 'SAAB': 15, 'SATURN': 15, 'SUZUKI': 15, 'HONDA': 14, 'SUBARU': 13, 'HYUNDAI': 12, 'ACURA': 11, 'DAEWOO': 10, 'JAGUAR': 10, 'KIA': 10, 'PORSCHE': 10, 'JEEP': 9, 'LEXUS': 8, 'LINCOLN': 7, 'OLDSMOBILE': 7, 'BUICK': 6, 'INFINITI': 5, 'CADILLAC': 4, 'ISUZU': 4, 'PLYMOUTH': 1})\n",
      "************************************************************************************************************************\n",
      "Column :  MODEL.1\n",
      "Count of classes :  351\n",
      "Counter({'RAM 1500': 9, 'DAKOTA': 6, 'DAKOTA 4X4': 6, 'K1500 SIERRA 4X4': 6, 'JETTA': 6, 'C1500 SILVERADO': 5, 'K1500 SILVERADO 4X4': 5, 'F150': 5, 'F150 4X4': 5, 'C1500 SIERRA': 5, 'A4 QUATTRO': 4, 'A6 QUATTRO': 4, 'Z3': 4, 'CAMARO': 4, 'CAVALIER': 4, 'S10 FFV': 4, 'INTREPID': 4, 'SEBRING COUPE': 4, 'LANOS': 4, 'MUSTANG': 4, 'RANGER': 4, 'RANGER 4X4': 4, 'SONOMA FFV': 4, 'ACCENT': 4, 'TJ 4X4': 4, 'MAGENTIS': 4, 'LS': 4, '626': 4, 'PROTEGE': 4, 'SENTRA': 4, 'FIREBIRD': 4, 'SUNFIRE': 4, 'IMPREZA AWD': 4, 'CELICA': 4, 'TACOMA': 4, 'TACOMA 4X4': 4, 'TUNDRA': 4, 'GOLF': 4, 'NEW BEETLE': 4, 'PASSAT': 4, 'PASSAT WAGON': 4, 'A4': 3, 'X5': 3, 'G15/G25 CHEVY VAN': 3, 'G1500/G2500 CHEVY EXPRESS': 3, 'TRACKER CONVERTIBLE 4X4': 3, 'SEBRING': 3, 'GRAND CARAVAN': 3, 'RAM 1500 4X4': 3, 'RAM 1500 VAN': 3, 'RAM 2500 VAN': 3, 'E150 CLUB WAGON': 3, 'E150 VAN': 3, 'G15/G25 SAVANA CARGO': 3, 'G1500/G2500 SAVANA PASSENGER': 3, 'K1500 YUKON 4X4': 3, 'ACCORD': 3, 'MX-5 MIATA': 3, 'ALERO': 3, 'GRAND AM': 3, '9-3 TURBO #': 3, '9-5 TURBO': 3, '9-5 WAGON TURBO': 3, 'LEGACY WAGON AWD': 3, 'VITARA CONVERTIBLE 4X4': 3, 'CAMRY': 3, 'CAMRY SOLARA': 3, 'GTI': 3, 'C70 CONVERTIBLE TURBO': 3, 'C70 TURBO': 3, '1.7EL': 2, 'INTEGRA': 2, 'NSX': 2, 'ALLROAD': 2, 'S4 QUATTRO': 2, '320i': 2, '325Ci': 2, '325Ci CONVERTIBLE': 2, '325i': 2, '325xi': 2, '330Ci': 2, '330Ci CONVERTIBLE': 2, '330i': 2, '330xi': 2, '525i': 2, '525i SPORT WAGON': 2, '530i': 2, '540i': 2, 'BLAZER': 2, 'BLAZER 4X4': 2, 'C1500 TAHOE': 2, 'CORVETTE': 2, 'IMPALA': 2, 'K1500 TAHOE 4X4': 2, 'MONTE CARLO': 2, 'S10': 2, 'S10 4X4': 2, 'TRACKER VAN 4X4': 2, 'CONCORDE': 2, 'NEON': 2, 'PT CRUISER': 2, 'SEBRING CONVERTIBLE': 2, 'TOWN & COUNTRY': 2, 'LEGANZA': 2, 'NUBIRA': 2, 'NUBIRA WAGON': 2, 'DURANGO 4X4': 2, 'GRAND CARAVAN AWD': 2, 'RAM 1500 WAGON': 2, 'RAM 2500 WAGON': 2, 'COUGAR': 2, 'E250 VAN': 2, 'ESCAPE': 2, 'ESCAPE 4X4': 2, 'EX SPORT TRAC': 2, 'EX SPORT TRAC 4X4': 2, 'EXPEDITION 4X4': 2, 'EXPLORER 4X4': 2, 'FOCUS': 2, 'FOCUS #': 2, 'FOCUS WAGON': 2, 'FOCUS WAGON #': 2, 'C1500 YUKON': 2, 'JIMMY': 2, 'JIMMY 4X4': 2, 'K1500 YUKON XL 4X4': 2, 'SONOMA': 2, 'SONOMA 4X4': 2, 'CIVIC': 2, 'CIVIC Si/Si-G': 2, 'CR-V': 2, 'PRELUDE': 2, 'ELANTRA': 2, 'TIBURON': 2, 'G20': 2, 'RODEO 4X4': 2, 'TROOPER 4X4': 2, 'S-TYPE': 2, 'CHEROKEE 4X4': 2, 'GRAND CHEROKEE 4X4': 2, 'RIO': 2, 'SEPHIA': 2, 'SPORTAGE': 2, 'B3000': 2, 'B4000': 2, 'B4000 4X4': 2, 'TRIBUTE': 2, 'TRIBUTE 4X4': 2, 'C 240': 2, 'SLK 230 KOMPRESSOR': 2, 'SLK 320': 2, 'ALTIMA': 2, 'FRONTIER': 2, 'FRONTIER V6': 2, 'FRONTIER V6 #': 2, 'FRONTIER V6 4X4': 2, 'FRONTIER V6 4X4 #': 2, 'MAXIMA': 2, 'PATHFINDER 4X4': 2, 'XTERRA V6 4X4': 2, 'AURORA': 2, 'GRAND PRIX': 2, '911 CARRERA': 2, '911 CARRERA 4': 2, '911 TURBO': 2, 'BOXSTER': 2, 'BOXSTER S': 2, '9-3 TURBO': 2, '9-5 TURBO #': 2, '9-5 WAGON TURBO #': 2, 'L100/200': 2, 'SC COUPE': 2, 'SC COUPE #': 2, 'SL': 2, 'SL #': 2, 'SW WAGON #': 2, 'FORESTER AWD': 2, 'IMPREZA WAGON AWD': 2, 'LEGACY AWD': 2, 'ESTEEM': 2, 'ESTEEM WAGON': 2, 'GRAND VITARA 4X4': 2, 'SWIFT': 2, 'VITARA 4-DOOR 4X4': 2, 'XL-7 4X4': 2, 'COROLLA': 2, 'ECHO': 2, 'RAV4 4X4': 2, 'TUNDRA 4X4': 2, 'CABRIO': 2, 'GOLF TDI DIESEL': 2, 'JETTA TDI DIESEL': 2, 'NEW BEETLE TDI DIESEL': 2, 'S60': 2, 'S60 2.4T TURBO': 2, 'S60 T5 TURBO': 2, 'V70 2.4T WAGON TURBO': 2, 'V70 T5 WAGON TURBO': 2, 'V70 WAGON': 2, '3.2CL': 1, '3.2TL': 1, '3.5RL': 1, 'INTEGRA GS-R': 1, 'MDX': 1, 'A6': 1, 'A6 AVANT QUATTRO WAGON': 1, 'A8 L': 1, 'A8 QUATTRO': 1, 'S8 QUATTRO #': 1, 'TT COUPE QUATTRO': 1, 'TT COUPE QUATTRO #': 1, 'TT ROADSTER': 1, 'TT ROADSTER QUATTRO #': 1, '540i SPORT WAGON': 1, '740i': 1, '740iL': 1, '750iL': 1, 'M COUPE': 1, 'M ROADSTER': 1, 'M3': 1, 'M3 CONVERTIBLE': 1, 'M5': 1, 'Z8': 1, 'CENTURY': 1, 'LESABRE': 1, 'PARK AVENUE': 1, 'PARK AVENUE #': 1, 'REGAL': 1, 'REGAL #': 1, 'CATERA': 1, 'DEVILLE': 1, 'ELDORADO': 1, 'SEVILLE': 1, 'ASTRO CARGO': 1, 'ASTRO CARGO AWD': 1, 'ASTRO PASSENGER': 1, 'ASTRO PASSENGER AWD': 1, 'C1500 SUBURBAN': 1, 'CAVALIER BI-FUEL': 1, 'K1500 SUBURBAN 4X4': 1, 'MALIBU': 1, 'VENTURE': 1, '300M': 1, 'LHS': 1, 'NEON R/T #': 1, 'TOWN & COUNTRY AWD': 1, 'CARAVAN': 1, 'DURANGO 5.9 R/T 4X4 #': 1, 'RAM 2500 VAN CNG': 1, 'RAM 2500 WAGON CNG': 1, 'VIPER GTS': 1, 'VIPER RT/10': 1, 'CROWN VICTORIA': 1, 'CROWN VICTORIA NGV': 1, 'E250 VAN NGV': 1, 'EX SPORT 4X4': 1, 'GRAND MARQUIS': 1, 'MUSTANG #': 1, 'TAURUS': 1, 'TAURUS #': 1, 'TAURUS WAGON': 1, 'TAURUS WAGON #': 1, 'WINDSTAR WAGON': 1, 'C1500 YUKON XL': 1, 'SAFARI CARGO': 1, 'SAFARI CARGO AWD': 1, 'SAFARI PASSENGER': 1, 'SAFARI PASSENGER AWD': 1, 'INSIGHT': 1, 'ODYSSEY': 1, 'S2000': 1, 'SANTA FE': 1, 'SONATA 2.4L': 1, 'SONATA 2.5L': 1, 'XG300': 1, 'I30': 1, 'Q45': 1, 'QX4 4X4': 1, 'VANDEN PLAS': 1, 'XJ8': 1, 'XJ8L': 1, 'XJR #': 1, 'XK8': 1, 'XK8 CONVERTIBLE': 1, 'XKR #': 1, 'XKR CONVERTIBLE #': 1, 'LIBERTY 4X4': 1, 'ES 300': 1, 'GS 300': 1, 'GS 430': 1, 'IS 300': 1, 'LS 430': 1, 'LX 470': 1, 'RX 300': 1, 'RX 300 4X4': 1, 'CONTINENTAL': 1, 'NAVIGATOR 4X4': 1, 'TOWN CAR': 1, 'MILLENIA': 1, 'MILLENIA #': 1, 'MPV': 1, 'C 320': 1, 'CL 500': 1, 'CL 600': 1, 'CLK 320': 1, 'CLK 320 CABRIOLET': 1, 'CLK 430': 1, 'CLK 430 CABRIOLET': 1, 'CLK 55 AMG': 1, 'E 320': 1, 'E 320 4MATIC 4X4': 1, 'E 320 4MATIC WAGON 4X4': 1, 'E 320 WAGON': 1, 'E 430': 1, 'E 430 4MATIC 4X4': 1, 'E 55 AMG': 1, 'ML 320 4X4': 1, 'ML 430 4X4': 1, 'ML 55 AMG 4X4': 1, 'S 430': 1, 'S 500': 1, 'S 600': 1, 'SL 500': 1, 'SL 600': 1, 'QUEST': 1, 'INTRIGUE': 1, 'SILHOUETTE': 1, 'PROWLER': 1, 'AZTEK': 1, 'AZTEK AWD': 1, 'BONNEVILLE': 1, 'BONNEVILLE #': 1, 'GRAND PRIX #': 1, 'MONTANA': 1, 'L300': 1, 'LW200 WAGON': 1, 'LW300 WAGON': 1, '4RUNNER 4X4': 1, 'AVALON': 1, 'CAMRY SOLARA CONVERTIBLE': 1, 'PRIUS': 1, 'SEQUOIA 4X4': 1, 'SIENNA': 1, 'PASSAT 4MOTION': 1, 'PASSAT 4MOTION WAGON': 1, 'S40 TURBO': 1, 'S80/S80 EXECUTIVE 2.9': 1, 'S80/S80 EXECUTIVE T-6 TURBO': 1, 'V40 WAGON TURBO': 1, 'V70 WAGON AWD TURBO': 1, 'V70 XC AWD TURBO': 1})\n",
      "************************************************************************************************************************\n",
      "Column :  Vehicles_class\n",
      "Count of classes :  14\n",
      "Counter({'COMPACT': 145, 'PICKUP TRUCK - STANDARD': 101, 'SUV': 98, 'MID-SIZE': 82, 'SUBCOMPACT': 62, 'TWO-SEATER': 31, 'STATION WAGON - MID-SIZE': 31, 'FULL-SIZE': 30, 'VAN - CARGO': 23, 'VAN - PASSENGER': 18, 'MINICOMPACT': 17, 'MINIVAN': 17, 'STATION WAGON - SMALL': 12, 'PICKUP TRUCK - SMALL': 12})\n",
      "************************************************************************************************************************\n",
      "Column :  Transmission\n",
      "Count of classes :  8\n",
      "Counter({'A4': 312, 'M5': 198, 'A5': 106, 'M6': 26, 'AS5': 15, 'AS4': 14, 'A3': 7, 'AV': 1})\n",
      "************************************************************************************************************************\n",
      "Column :  Fuel_Type\n",
      "Count of classes :  5\n",
      "Counter({'X': 442, 'Z': 223, 'D': 6, 'E': 4, 'N': 4})\n",
      "************************************************************************************************************************\n"
     ]
    }
   ],
   "source": [
    "for i in cat:\n",
    "    print(\"Column : \",i)\n",
    "    print(\"Count of classes : \",df[i].nunique())\n",
    "    print(c(df[i]))\n",
    "    print(\"*\"*120)"
   ]
  },
  {
   "cell_type": "code",
   "execution_count": 68,
   "id": "f4b7be1e",
   "metadata": {},
   "outputs": [
    {
     "data": {
      "text/plain": [
       "Counter({'Automatic': 425,\n",
       "         'Manual': 224,\n",
       "         'Automatic with Select Shift': 29,\n",
       "         'Continuously Variable': 1})"
      ]
     },
     "execution_count": 68,
     "metadata": {},
     "output_type": "execute_result"
    }
   ],
   "source": [
    "df[\"Transmission\"]=np.where(df[\"Transmission\"].isin([\"A4\",\"A5\",\"A3\"]),\"Automatic\",df[\"Transmission\"])\n",
    "df[\"Transmission\"]=np.where(df[\"Transmission\"].isin([\"M5\",\"M6\"]),\"Manual\",df[\"Transmission\"])\n",
    "df[\"Transmission\"]=np.where(df[\"Transmission\"].isin([\"AS4\",\"AS5\"]),\"Automatic with Select Shift\",df[\"Transmission\"])\n",
    "df[\"Transmission\"]=np.where(df[\"Transmission\"].isin([\"AV\"]),\"Continuously Variable\",df[\"Transmission\"])\n",
    "c(df[\"Transmission\"])"
   ]
  },
  {
   "cell_type": "code",
   "execution_count": 69,
   "id": "19b3563a",
   "metadata": {},
   "outputs": [
    {
     "data": {
      "text/plain": [
       "Counter({'Regular Gasoline': 442,\n",
       "         'Premium Gasoline': 223,\n",
       "         'Ethanol(E85)': 4,\n",
       "         'Natural Gas': 4,\n",
       "         'Diesel': 6})"
      ]
     },
     "execution_count": 69,
     "metadata": {},
     "output_type": "execute_result"
    }
   ],
   "source": [
    "df[\"Fuel_Type\"]=np.where(df[\"Fuel_Type\"]==\"Z\",\"Premium Gasoline\",df[\"Fuel_Type\"])\n",
    "df[\"Fuel_Type\"]=np.where(df[\"Fuel_Type\"]=='X',\"Regular Gasoline\",df[\"Fuel_Type\"])\n",
    "df[\"Fuel_Type\"]=np.where(df[\"Fuel_Type\"]==\"D\",\"Diesel\",df[\"Fuel_Type\"])\n",
    "df[\"Fuel_Type\"]=np.where(df[\"Fuel_Type\"]==\"E\",\"Ethanol(E85)\",df[\"Fuel_Type\"])\n",
    "df[\"Fuel_Type\"]=np.where(df[\"Fuel_Type\"]==\"N\",\"Natural Gas\",df[\"Fuel_Type\"])\n",
    "c(df[\"Fuel_Type\"])"
   ]
  },
  {
   "cell_type": "code",
   "execution_count": 70,
   "id": "62f0d2c7",
   "metadata": {},
   "outputs": [
    {
     "data": {
      "text/plain": [
       "array(['Engine_Size', 'Cylinders', 'Fuel_Consumption_City',\n",
       "       'Fuel_Consumption_Hwy', 'Fuel_Consumption_Comb(L/100km)',\n",
       "       'Fuel_Consumption_Comd(mpg)', 'CO2_Emissions'], dtype=object)"
      ]
     },
     "execution_count": 70,
     "metadata": {},
     "output_type": "execute_result"
    }
   ],
   "source": [
    "df.dtypes[df.dtypes!='O'].index.values"
   ]
  },
  {
   "cell_type": "code",
   "execution_count": 71,
   "id": "17b75f81",
   "metadata": {},
   "outputs": [
    {
     "data": {
      "text/plain": [
       "Make                              0\n",
       "MODEL.1                           0\n",
       "Vehicles_class                    0\n",
       "Engine_Size                       0\n",
       "Cylinders                         0\n",
       "Transmission                      0\n",
       "Fuel_Type                         0\n",
       "Fuel_Consumption_City             0\n",
       "Fuel_Consumption_Hwy              0\n",
       "Fuel_Consumption_Comb(L/100km)    0\n",
       "Fuel_Consumption_Comd(mpg)        0\n",
       "CO2_Emissions                     0\n",
       "dtype: int64"
      ]
     },
     "execution_count": 71,
     "metadata": {},
     "output_type": "execute_result"
    }
   ],
   "source": [
    "df.isnull().sum()"
   ]
  },
  {
   "cell_type": "code",
   "execution_count": 72,
   "id": "8998781a",
   "metadata": {},
   "outputs": [
    {
     "name": "stdout",
     "output_type": "stream",
     "text": [
      "LABEL ENCODING OF :  Make\n",
      "Counter({'FORD': 63, 'CHEVROLET': 60, 'DODGE': 47, 'BMW': 43, 'GMC': 41, 'TOYOTA': 36, 'VOLKSWAGEN': 35, 'MERCEDES-BENZ': 29, 'CHRYSLER': 25, 'AUDI': 24, 'MAZDA': 24, 'VOLVO': 24, 'NISSAN': 23, 'PONTIAC': 19, 'SAAB': 15, 'SATURN': 15, 'SUZUKI': 15, 'HONDA': 14, 'SUBARU': 13, 'HYUNDAI': 12, 'ACURA': 11, 'DAEWOO': 10, 'JAGUAR': 10, 'KIA': 10, 'PORSCHE': 10, 'JEEP': 9, 'LEXUS': 8, 'LINCOLN': 7, 'OLDSMOBILE': 7, 'BUICK': 6, 'INFINITI': 5, 'CADILLAC': 4, 'ISUZU': 4, 'PLYMOUTH': 1})\n",
      "Counter({9: 63, 5: 60, 8: 47, 2: 43, 10: 41, 31: 36, 32: 35, 21: 29, 6: 25, 1: 24, 20: 24, 33: 24, 22: 23, 25: 19, 27: 15, 28: 15, 30: 15, 11: 14, 29: 13, 12: 12, 0: 11, 7: 10, 15: 10, 17: 10, 26: 10, 16: 9, 18: 8, 19: 7, 23: 7, 3: 6, 13: 5, 4: 4, 14: 4, 24: 1})\n",
      "****************************************************************************************************\n",
      "LABEL ENCODING OF :  MODEL.1\n",
      "Counter({'RAM 1500': 9, 'DAKOTA': 6, 'DAKOTA 4X4': 6, 'K1500 SIERRA 4X4': 6, 'JETTA': 6, 'C1500 SILVERADO': 5, 'K1500 SILVERADO 4X4': 5, 'F150': 5, 'F150 4X4': 5, 'C1500 SIERRA': 5, 'A4 QUATTRO': 4, 'A6 QUATTRO': 4, 'Z3': 4, 'CAMARO': 4, 'CAVALIER': 4, 'S10 FFV': 4, 'INTREPID': 4, 'SEBRING COUPE': 4, 'LANOS': 4, 'MUSTANG': 4, 'RANGER': 4, 'RANGER 4X4': 4, 'SONOMA FFV': 4, 'ACCENT': 4, 'TJ 4X4': 4, 'MAGENTIS': 4, 'LS': 4, '626': 4, 'PROTEGE': 4, 'SENTRA': 4, 'FIREBIRD': 4, 'SUNFIRE': 4, 'IMPREZA AWD': 4, 'CELICA': 4, 'TACOMA': 4, 'TACOMA 4X4': 4, 'TUNDRA': 4, 'GOLF': 4, 'NEW BEETLE': 4, 'PASSAT': 4, 'PASSAT WAGON': 4, 'A4': 3, 'X5': 3, 'G15/G25 CHEVY VAN': 3, 'G1500/G2500 CHEVY EXPRESS': 3, 'TRACKER CONVERTIBLE 4X4': 3, 'SEBRING': 3, 'GRAND CARAVAN': 3, 'RAM 1500 4X4': 3, 'RAM 1500 VAN': 3, 'RAM 2500 VAN': 3, 'E150 CLUB WAGON': 3, 'E150 VAN': 3, 'G15/G25 SAVANA CARGO': 3, 'G1500/G2500 SAVANA PASSENGER': 3, 'K1500 YUKON 4X4': 3, 'ACCORD': 3, 'MX-5 MIATA': 3, 'ALERO': 3, 'GRAND AM': 3, '9-3 TURBO #': 3, '9-5 TURBO': 3, '9-5 WAGON TURBO': 3, 'LEGACY WAGON AWD': 3, 'VITARA CONVERTIBLE 4X4': 3, 'CAMRY': 3, 'CAMRY SOLARA': 3, 'GTI': 3, 'C70 CONVERTIBLE TURBO': 3, 'C70 TURBO': 3, '1.7EL': 2, 'INTEGRA': 2, 'NSX': 2, 'ALLROAD': 2, 'S4 QUATTRO': 2, '320i': 2, '325Ci': 2, '325Ci CONVERTIBLE': 2, '325i': 2, '325xi': 2, '330Ci': 2, '330Ci CONVERTIBLE': 2, '330i': 2, '330xi': 2, '525i': 2, '525i SPORT WAGON': 2, '530i': 2, '540i': 2, 'BLAZER': 2, 'BLAZER 4X4': 2, 'C1500 TAHOE': 2, 'CORVETTE': 2, 'IMPALA': 2, 'K1500 TAHOE 4X4': 2, 'MONTE CARLO': 2, 'S10': 2, 'S10 4X4': 2, 'TRACKER VAN 4X4': 2, 'CONCORDE': 2, 'NEON': 2, 'PT CRUISER': 2, 'SEBRING CONVERTIBLE': 2, 'TOWN & COUNTRY': 2, 'LEGANZA': 2, 'NUBIRA': 2, 'NUBIRA WAGON': 2, 'DURANGO 4X4': 2, 'GRAND CARAVAN AWD': 2, 'RAM 1500 WAGON': 2, 'RAM 2500 WAGON': 2, 'COUGAR': 2, 'E250 VAN': 2, 'ESCAPE': 2, 'ESCAPE 4X4': 2, 'EX SPORT TRAC': 2, 'EX SPORT TRAC 4X4': 2, 'EXPEDITION 4X4': 2, 'EXPLORER 4X4': 2, 'FOCUS': 2, 'FOCUS #': 2, 'FOCUS WAGON': 2, 'FOCUS WAGON #': 2, 'C1500 YUKON': 2, 'JIMMY': 2, 'JIMMY 4X4': 2, 'K1500 YUKON XL 4X4': 2, 'SONOMA': 2, 'SONOMA 4X4': 2, 'CIVIC': 2, 'CIVIC Si/Si-G': 2, 'CR-V': 2, 'PRELUDE': 2, 'ELANTRA': 2, 'TIBURON': 2, 'G20': 2, 'RODEO 4X4': 2, 'TROOPER 4X4': 2, 'S-TYPE': 2, 'CHEROKEE 4X4': 2, 'GRAND CHEROKEE 4X4': 2, 'RIO': 2, 'SEPHIA': 2, 'SPORTAGE': 2, 'B3000': 2, 'B4000': 2, 'B4000 4X4': 2, 'TRIBUTE': 2, 'TRIBUTE 4X4': 2, 'C 240': 2, 'SLK 230 KOMPRESSOR': 2, 'SLK 320': 2, 'ALTIMA': 2, 'FRONTIER': 2, 'FRONTIER V6': 2, 'FRONTIER V6 #': 2, 'FRONTIER V6 4X4': 2, 'FRONTIER V6 4X4 #': 2, 'MAXIMA': 2, 'PATHFINDER 4X4': 2, 'XTERRA V6 4X4': 2, 'AURORA': 2, 'GRAND PRIX': 2, '911 CARRERA': 2, '911 CARRERA 4': 2, '911 TURBO': 2, 'BOXSTER': 2, 'BOXSTER S': 2, '9-3 TURBO': 2, '9-5 TURBO #': 2, '9-5 WAGON TURBO #': 2, 'L100/200': 2, 'SC COUPE': 2, 'SC COUPE #': 2, 'SL': 2, 'SL #': 2, 'SW WAGON #': 2, 'FORESTER AWD': 2, 'IMPREZA WAGON AWD': 2, 'LEGACY AWD': 2, 'ESTEEM': 2, 'ESTEEM WAGON': 2, 'GRAND VITARA 4X4': 2, 'SWIFT': 2, 'VITARA 4-DOOR 4X4': 2, 'XL-7 4X4': 2, 'COROLLA': 2, 'ECHO': 2, 'RAV4 4X4': 2, 'TUNDRA 4X4': 2, 'CABRIO': 2, 'GOLF TDI DIESEL': 2, 'JETTA TDI DIESEL': 2, 'NEW BEETLE TDI DIESEL': 2, 'S60': 2, 'S60 2.4T TURBO': 2, 'S60 T5 TURBO': 2, 'V70 2.4T WAGON TURBO': 2, 'V70 T5 WAGON TURBO': 2, 'V70 WAGON': 2, '3.2CL': 1, '3.2TL': 1, '3.5RL': 1, 'INTEGRA GS-R': 1, 'MDX': 1, 'A6': 1, 'A6 AVANT QUATTRO WAGON': 1, 'A8 L': 1, 'A8 QUATTRO': 1, 'S8 QUATTRO #': 1, 'TT COUPE QUATTRO': 1, 'TT COUPE QUATTRO #': 1, 'TT ROADSTER': 1, 'TT ROADSTER QUATTRO #': 1, '540i SPORT WAGON': 1, '740i': 1, '740iL': 1, '750iL': 1, 'M COUPE': 1, 'M ROADSTER': 1, 'M3': 1, 'M3 CONVERTIBLE': 1, 'M5': 1, 'Z8': 1, 'CENTURY': 1, 'LESABRE': 1, 'PARK AVENUE': 1, 'PARK AVENUE #': 1, 'REGAL': 1, 'REGAL #': 1, 'CATERA': 1, 'DEVILLE': 1, 'ELDORADO': 1, 'SEVILLE': 1, 'ASTRO CARGO': 1, 'ASTRO CARGO AWD': 1, 'ASTRO PASSENGER': 1, 'ASTRO PASSENGER AWD': 1, 'C1500 SUBURBAN': 1, 'CAVALIER BI-FUEL': 1, 'K1500 SUBURBAN 4X4': 1, 'MALIBU': 1, 'VENTURE': 1, '300M': 1, 'LHS': 1, 'NEON R/T #': 1, 'TOWN & COUNTRY AWD': 1, 'CARAVAN': 1, 'DURANGO 5.9 R/T 4X4 #': 1, 'RAM 2500 VAN CNG': 1, 'RAM 2500 WAGON CNG': 1, 'VIPER GTS': 1, 'VIPER RT/10': 1, 'CROWN VICTORIA': 1, 'CROWN VICTORIA NGV': 1, 'E250 VAN NGV': 1, 'EX SPORT 4X4': 1, 'GRAND MARQUIS': 1, 'MUSTANG #': 1, 'TAURUS': 1, 'TAURUS #': 1, 'TAURUS WAGON': 1, 'TAURUS WAGON #': 1, 'WINDSTAR WAGON': 1, 'C1500 YUKON XL': 1, 'SAFARI CARGO': 1, 'SAFARI CARGO AWD': 1, 'SAFARI PASSENGER': 1, 'SAFARI PASSENGER AWD': 1, 'INSIGHT': 1, 'ODYSSEY': 1, 'S2000': 1, 'SANTA FE': 1, 'SONATA 2.4L': 1, 'SONATA 2.5L': 1, 'XG300': 1, 'I30': 1, 'Q45': 1, 'QX4 4X4': 1, 'VANDEN PLAS': 1, 'XJ8': 1, 'XJ8L': 1, 'XJR #': 1, 'XK8': 1, 'XK8 CONVERTIBLE': 1, 'XKR #': 1, 'XKR CONVERTIBLE #': 1, 'LIBERTY 4X4': 1, 'ES 300': 1, 'GS 300': 1, 'GS 430': 1, 'IS 300': 1, 'LS 430': 1, 'LX 470': 1, 'RX 300': 1, 'RX 300 4X4': 1, 'CONTINENTAL': 1, 'NAVIGATOR 4X4': 1, 'TOWN CAR': 1, 'MILLENIA': 1, 'MILLENIA #': 1, 'MPV': 1, 'C 320': 1, 'CL 500': 1, 'CL 600': 1, 'CLK 320': 1, 'CLK 320 CABRIOLET': 1, 'CLK 430': 1, 'CLK 430 CABRIOLET': 1, 'CLK 55 AMG': 1, 'E 320': 1, 'E 320 4MATIC 4X4': 1, 'E 320 4MATIC WAGON 4X4': 1, 'E 320 WAGON': 1, 'E 430': 1, 'E 430 4MATIC 4X4': 1, 'E 55 AMG': 1, 'ML 320 4X4': 1, 'ML 430 4X4': 1, 'ML 55 AMG 4X4': 1, 'S 430': 1, 'S 500': 1, 'S 600': 1, 'SL 500': 1, 'SL 600': 1, 'QUEST': 1, 'INTRIGUE': 1, 'SILHOUETTE': 1, 'PROWLER': 1, 'AZTEK': 1, 'AZTEK AWD': 1, 'BONNEVILLE': 1, 'BONNEVILLE #': 1, 'GRAND PRIX #': 1, 'MONTANA': 1, 'L300': 1, 'LW200 WAGON': 1, 'LW300 WAGON': 1, '4RUNNER 4X4': 1, 'AVALON': 1, 'CAMRY SOLARA CONVERTIBLE': 1, 'PRIUS': 1, 'SEQUOIA 4X4': 1, 'SIENNA': 1, 'PASSAT 4MOTION': 1, 'PASSAT 4MOTION WAGON': 1, 'S40 TURBO': 1, 'S80/S80 EXECUTIVE 2.9': 1, 'S80/S80 EXECUTIVE T-6 TURBO': 1, 'V40 WAGON TURBO': 1, 'V70 WAGON AWD TURBO': 1, 'V70 XC AWD TURBO': 1})\n",
      "Counter({239: 9, 101: 6, 102: 6, 175: 6, 171: 6, 65: 5, 176: 5, 130: 5, 131: 5, 64: 5, 34: 4, 37: 4, 349: 4, 73: 4, 79: 4, 262: 4, 168: 4, 281: 4, 183: 4, 212: 4, 247: 4, 248: 4, 298: 4, 40: 4, 310: 4, 200: 4, 190: 4, 20: 4, 233: 4, 282: 4, 132: 4, 300: 4, 163: 4, 81: 4, 303: 4, 304: 4, 323: 4, 148: 4, 218: 4, 226: 4, 229: 4, 33: 3, 338: 3, 143: 3, 145: 3, 314: 3, 279: 3, 151: 3, 240: 3, 241: 3, 243: 3, 113: 3, 114: 3, 144: 3, 146: 3, 179: 3, 41: 3, 214: 3, 42: 3, 150: 3, 25: 3, 26: 3, 28: 3, 185: 3, 336: 3, 74: 3, 75: 3, 160: 3, 70: 3, 71: 3, 0: 2, 166: 2, 220: 2, 43: 2, 264: 2, 5: 2, 6: 2, 7: 2, 8: 2, 9: 2, 10: 2, 11: 2, 12: 2, 13: 2, 15: 2, 16: 2, 17: 2, 18: 2, 56: 2, 57: 2, 67: 2, 96: 2, 162: 2, 178: 2, 210: 2, 260: 2, 261: 2, 315: 2, 93: 2, 216: 2, 235: 2, 280: 2, 311: 2, 186: 2, 221: 2, 222: 2, 104: 2, 152: 2, 242: 2, 245: 2, 97: 2, 115: 2, 121: 2, 122: 2, 126: 2, 127: 2, 128: 2, 129: 2, 133: 2, 134: 2, 135: 2, 136: 2, 68: 2, 173: 2, 174: 2, 180: 2, 296: 2, 297: 2, 84: 2, 85: 2, 98: 2, 231: 2, 118: 2, 309: 2, 147: 2, 253: 2, 318: 2, 259: 2, 83: 2, 153: 2, 252: 2, 283: 2, 299: 2, 53: 2, 54: 2, 55: 2, 316: 2, 317: 2, 62: 2, 292: 2, 293: 2, 44: 2, 138: 2, 139: 2, 140: 2, 141: 2, 142: 2, 202: 2, 230: 2, 348: 2, 49: 2, 155: 2, 30: 2, 31: 2, 32: 2, 60: 2, 61: 2, 24: 2, 27: 2, 29: 2, 181: 2, 277: 2, 278: 2, 288: 2, 289: 2, 301: 2, 137: 2, 164: 2, 184: 2, 123: 2, 124: 2, 157: 2, 302: 2, 335: 2, 347: 2, 95: 2, 117: 2, 249: 2, 324: 2, 72: 2, 149: 2, 172: 2, 219: 2, 266: 2, 267: 2, 268: 2, 326: 2, 327: 2, 328: 2, 1: 1, 2: 1, 3: 1, 167: 1, 203: 1, 35: 1, 36: 1, 38: 1, 39: 1, 269: 1, 319: 1, 320: 1, 321: 1, 322: 1, 19: 1, 21: 1, 22: 1, 23: 1, 195: 1, 196: 1, 197: 1, 198: 1, 199: 1, 350: 1, 82: 1, 187: 1, 224: 1, 225: 1, 250: 1, 251: 1, 78: 1, 103: 1, 119: 1, 285: 1, 45: 1, 46: 1, 47: 1, 48: 1, 66: 1, 80: 1, 177: 1, 201: 1, 332: 1, 4: 1, 188: 1, 217: 1, 312: 1, 77: 1, 105: 1, 244: 1, 246: 1, 333: 1, 334: 1, 99: 1, 100: 1, 116: 1, 125: 1, 154: 1, 213: 1, 305: 1, 306: 1, 307: 1, 308: 1, 337: 1, 69: 1, 272: 1, 273: 1, 274: 1, 275: 1, 165: 1, 223: 1, 263: 1, 276: 1, 294: 1, 295: 1, 339: 1, 161: 1, 236: 1, 238: 1, 331: 1, 340: 1, 341: 1, 342: 1, 343: 1, 344: 1, 345: 1, 346: 1, 189: 1, 120: 1, 158: 1, 159: 1, 170: 1, 191: 1, 194: 1, 254: 1, 255: 1, 94: 1, 215: 1, 313: 1, 204: 1, 205: 1, 211: 1, 63: 1, 86: 1, 87: 1, 88: 1, 89: 1, 90: 1, 91: 1, 92: 1, 106: 1, 107: 1, 108: 1, 109: 1, 110: 1, 111: 1, 112: 1, 206: 1, 207: 1, 208: 1, 256: 1, 257: 1, 258: 1, 290: 1, 291: 1, 237: 1, 169: 1, 287: 1, 234: 1, 51: 1, 52: 1, 58: 1, 59: 1, 156: 1, 209: 1, 182: 1, 192: 1, 193: 1, 14: 1, 50: 1, 76: 1, 232: 1, 284: 1, 286: 1, 227: 1, 228: 1, 265: 1, 270: 1, 271: 1, 325: 1, 329: 1, 330: 1})\n",
      "****************************************************************************************************\n",
      "LABEL ENCODING OF :  Vehicles_class\n",
      "Counter({'COMPACT': 145, 'PICKUP TRUCK - STANDARD': 101, 'SUV': 98, 'MID-SIZE': 82, 'SUBCOMPACT': 62, 'TWO-SEATER': 31, 'STATION WAGON - MID-SIZE': 31, 'FULL-SIZE': 30, 'VAN - CARGO': 23, 'VAN - PASSENGER': 18, 'MINICOMPACT': 17, 'MINIVAN': 17, 'STATION WAGON - SMALL': 12, 'PICKUP TRUCK - SMALL': 12})\n",
      "Counter({0: 145, 6: 101, 10: 98, 2: 82, 9: 62, 11: 31, 7: 31, 1: 30, 12: 23, 13: 18, 3: 17, 4: 17, 8: 12, 5: 12})\n",
      "****************************************************************************************************\n",
      "LABEL ENCODING OF :  Transmission\n",
      "Counter({'Automatic': 425, 'Manual': 224, 'Automatic with Select Shift': 29, 'Continuously Variable': 1})\n",
      "Counter({0: 425, 3: 224, 1: 29, 2: 1})\n",
      "****************************************************************************************************\n",
      "LABEL ENCODING OF :  Fuel_Type\n",
      "Counter({'Regular Gasoline': 442, 'Premium Gasoline': 223, 'Diesel': 6, 'Ethanol(E85)': 4, 'Natural Gas': 4})\n",
      "Counter({4: 442, 3: 223, 0: 6, 1: 4, 2: 4})\n",
      "****************************************************************************************************\n"
     ]
    }
   ],
   "source": [
    "from sklearn.preprocessing import LabelEncoder\n",
    "x='*'\n",
    "for i in cat:\n",
    "    print(\"LABEL ENCODING OF : \",i)\n",
    "    LE=LabelEncoder()\n",
    "    print(c(df[i]))\n",
    "    df[i]=LE.fit_transform(df[i])\n",
    "    print(c(df[i]))\n",
    "    print(x*100)"
   ]
  },
  {
   "cell_type": "code",
   "execution_count": 73,
   "id": "fbcc41cc",
   "metadata": {},
   "outputs": [],
   "source": [
    "MCO2=df.groupby(['Make'])['CO2_Emissions'].mean().sort_values()[:20].reset_index()"
   ]
  },
  {
   "cell_type": "code",
   "execution_count": 74,
   "id": "9aaf03db",
   "metadata": {
    "scrolled": true
   },
   "outputs": [
    {
     "data": {
      "text/plain": [
       "<AxesSubplot:xlabel='Make', ylabel='CO2_Emissions'>"
      ]
     },
     "execution_count": 74,
     "metadata": {},
     "output_type": "execute_result"
    },
    {
     "data": {
      "image/png": "[encoded data removed]",
      "text/plain": [
       "<Figure size 1800x432 with 1 Axes>"
      ]
     },
     "metadata": {
      "needs_background": "light"
     },
     "output_type": "display_data"
    }
   ],
   "source": [
    "plt.figure(figsize=(25,6))\n",
    "sns.barplot(x=\"Make\",y=\"CO2_Emissions\",data=MCO2)"
   ]
  },
  {
   "cell_type": "code",
   "execution_count": 75,
   "id": "d301de69",
   "metadata": {},
   "outputs": [
    {
     "data": {
      "text/plain": [
       "<Figure size 1440x432 with 0 Axes>"
      ]
     },
     "execution_count": 75,
     "metadata": {},
     "output_type": "execute_result"
    },
    {
     "data": {
      "text/plain": [
       "<Figure size 1440x432 with 0 Axes>"
      ]
     },
     "metadata": {},
     "output_type": "display_data"
    }
   ],
   "source": [
    "VC=df.groupby(['Vehicles_class'])['CO2_Emissions'].mean().sort_values(ascending=False)[:20].reset_index()\n",
    "plt.figure(figsize=(20,6))"
   ]
  },
  {
   "cell_type": "code",
   "execution_count": 76,
   "id": "997709cd",
   "metadata": {},
   "outputs": [
    {
     "data": {
      "text/plain": [
       "<AxesSubplot:xlabel='Vehicles_class', ylabel='CO2_Emissions'>"
      ]
     },
     "execution_count": 76,
     "metadata": {},
     "output_type": "execute_result"
    },
    {
     "data": {
      "image/png": "[encoded data removed]",
      "text/plain": [
       "<Figure size 432x288 with 1 Axes>"
      ]
     },
     "metadata": {
      "needs_background": "light"
     },
     "output_type": "display_data"
    }
   ],
   "source": [
    "sns.barplot(x='Vehicles_class',y='CO2_Emissions',data=VC)"
   ]
  },
  {
   "cell_type": "code",
   "execution_count": 77,
   "id": "47151df9",
   "metadata": {},
   "outputs": [
    {
     "data": {
      "image/png": "[encoded data removed]",
      "text/plain": [
       "<Figure size 1152x1152 with 2 Axes>"
      ]
     },
     "metadata": {
      "needs_background": "light"
     },
     "output_type": "display_data"
    }
   ],
   "source": [
    "corr=df.corr()\n",
    "plt.subplots(figsize=(16,16))\n",
    "sns.heatmap(corr,annot=True,square=True)\n",
    "plt.title(\"Correlation matrix of numerical features\")\n",
    "plt.tight_layout()\n",
    "plt.show()"
   ]
  },
  {
   "cell_type": "code",
   "execution_count": 78,
   "id": "1abd2c20",
   "metadata": {},
   "outputs": [
    {
     "data": {
      "text/plain": [
       "<AxesSubplot:>"
      ]
     },
     "execution_count": 78,
     "metadata": {},
     "output_type": "execute_result"
    },
    {
     "data": {
      "image/png": "[encoded data removed]",
      "text/plain": [
       "<Figure size 1152x360 with 1 Axes>"
      ]
     },
     "metadata": {
      "needs_background": "light"
     },
     "output_type": "display_data"
    }
   ],
   "source": [
    "plt.figure(figsize=(16,5))\n",
    "corr[\"CO2_Emissions\"].sort_values(ascending=True)[:-1].plot(kind=\"barh\")"
   ]
  },
  {
   "cell_type": "code",
   "execution_count": 79,
   "id": "ad159943",
   "metadata": {},
   "outputs": [
    {
     "name": "stdout",
     "output_type": "stream",
     "text": [
      "(543, 9)\n",
      "(136, 9)\n",
      "     Make  Vehicles_class  Engine_Size  Cylinders  Transmission  Fuel_Type  \\\n",
      "0       0               0          1.7          4             0          4   \n",
      "1       0               0          1.7          4             3          4   \n",
      "2       0               0          3.2          6             1          3   \n",
      "3       0               2          3.2          6             1          3   \n",
      "4       0               2          3.5          6             0          3   \n",
      "..    ...             ...          ...        ...           ...        ...   \n",
      "674    33               7          2.3          5             3          3   \n",
      "675    33               7          2.4          5             0          3   \n",
      "676    33               7          2.4          5             3          3   \n",
      "677    33               7          2.4          5             1          3   \n",
      "678    33              10          2.4          5             1          3   \n",
      "\n",
      "     Fuel_Consumption_City  Fuel_Consumption_Hwy  Fuel_Consumption_Comd(mpg)  \n",
      "0                      9.3                   7.2                          34  \n",
      "1                      8.9                   7.4                          34  \n",
      "2                     13.7                   8.8                          25  \n",
      "3                     13.8                   8.8                          24  \n",
      "4                     15.0                  10.9                          22  \n",
      "..                     ...                   ...                         ...  \n",
      "674                   13.0                   9.3                          25  \n",
      "675                   12.8                   9.3                          25  \n",
      "676                   12.5                   9.3                          26  \n",
      "677                   14.4                  10.3                          23  \n",
      "678                   14.8                  11.4                          21  \n",
      "\n",
      "[679 rows x 9 columns]\n"
     ]
    },
    {
     "data": {
      "text/html": [
       "<div>\n",
       "<style scoped>\n",
       "    .dataframe tbody tr th:only-of-type {\n",
       "        vertical-align: middle;\n",
       "    }\n",
       "\n",
       "    .dataframe tbody tr th {\n",
       "        vertical-align: top;\n",
       "    }\n",
       "\n",
       "    .dataframe thead th {\n",
       "        text-align: right;\n",
       "    }\n",
       "</style>\n",
       "<table border=\"1\" class=\"dataframe\">\n",
       "  <thead>\n",
       "    <tr style=\"text-align: right;\">\n",
       "      <th></th>\n",
       "      <th>Make</th>\n",
       "      <th>Vehicles_class</th>\n",
       "      <th>Engine_Size</th>\n",
       "      <th>Cylinders</th>\n",
       "      <th>Transmission</th>\n",
       "      <th>Fuel_Type</th>\n",
       "      <th>Fuel_Consumption_City</th>\n",
       "      <th>Fuel_Consumption_Hwy</th>\n",
       "      <th>Fuel_Consumption_Comd(mpg)</th>\n",
       "    </tr>\n",
       "  </thead>\n",
       "  <tbody>\n",
       "    <tr>\n",
       "      <th>674</th>\n",
       "      <td>33</td>\n",
       "      <td>7</td>\n",
       "      <td>2.3</td>\n",
       "      <td>5</td>\n",
       "      <td>3</td>\n",
       "      <td>3</td>\n",
       "      <td>13.0</td>\n",
       "      <td>9.3</td>\n",
       "      <td>25</td>\n",
       "    </tr>\n",
       "    <tr>\n",
       "      <th>675</th>\n",
       "      <td>33</td>\n",
       "      <td>7</td>\n",
       "      <td>2.4</td>\n",
       "      <td>5</td>\n",
       "      <td>0</td>\n",
       "      <td>3</td>\n",
       "      <td>12.8</td>\n",
       "      <td>9.3</td>\n",
       "      <td>25</td>\n",
       "    </tr>\n",
       "    <tr>\n",
       "      <th>676</th>\n",
       "      <td>33</td>\n",
       "      <td>7</td>\n",
       "      <td>2.4</td>\n",
       "      <td>5</td>\n",
       "      <td>3</td>\n",
       "      <td>3</td>\n",
       "      <td>12.5</td>\n",
       "      <td>9.3</td>\n",
       "      <td>26</td>\n",
       "    </tr>\n",
       "    <tr>\n",
       "      <th>677</th>\n",
       "      <td>33</td>\n",
       "      <td>7</td>\n",
       "      <td>2.4</td>\n",
       "      <td>5</td>\n",
       "      <td>1</td>\n",
       "      <td>3</td>\n",
       "      <td>14.4</td>\n",
       "      <td>10.3</td>\n",
       "      <td>23</td>\n",
       "    </tr>\n",
       "    <tr>\n",
       "      <th>678</th>\n",
       "      <td>33</td>\n",
       "      <td>10</td>\n",
       "      <td>2.4</td>\n",
       "      <td>5</td>\n",
       "      <td>1</td>\n",
       "      <td>3</td>\n",
       "      <td>14.8</td>\n",
       "      <td>11.4</td>\n",
       "      <td>21</td>\n",
       "    </tr>\n",
       "  </tbody>\n",
       "</table>\n",
       "</div>"
      ],
      "text/plain": [
       "     Make  Vehicles_class  Engine_Size  Cylinders  Transmission  Fuel_Type  \\\n",
       "674    33               7          2.3          5             3          3   \n",
       "675    33               7          2.4          5             0          3   \n",
       "676    33               7          2.4          5             3          3   \n",
       "677    33               7          2.4          5             1          3   \n",
       "678    33              10          2.4          5             1          3   \n",
       "\n",
       "     Fuel_Consumption_City  Fuel_Consumption_Hwy  Fuel_Consumption_Comd(mpg)  \n",
       "674                   13.0                   9.3                          25  \n",
       "675                   12.8                   9.3                          25  \n",
       "676                   12.5                   9.3                          26  \n",
       "677                   14.4                  10.3                          23  \n",
       "678                   14.8                  11.4                          21  "
      ]
     },
     "execution_count": 79,
     "metadata": {},
     "output_type": "execute_result"
    }
   ],
   "source": [
    "x=df.drop(['CO2_Emissions','Fuel_Consumption_Comb(L/100km)','MODEL.1'],axis=1)\n",
    "x=pd.DataFrame(x)\n",
    "y=df['CO2_Emissions']\n",
    "y=pd.DataFrame(y)\n",
    "x_train,x_test,y_train,y_test=train_test_split(x,y,test_size=0.2,random_state=2)\n",
    "print(x_train.shape)\n",
    "print(x_test.shape)\n",
    "print(x)\n",
    "x.tail()"
   ]
  },
  {
   "cell_type": "code",
   "execution_count": 80,
   "id": "95b0c80d",
   "metadata": {},
   "outputs": [
    {
     "name": "stdout",
     "output_type": "stream",
     "text": [
      "     Make  Vehicles_class  Engine_Size  Cylinders  Transmission  Fuel_Type  \\\n",
      "120     5              13          5.7          8             0          4   \n",
      "225     8              13          5.2          8             0          4   \n",
      "198     8              10          5.9          8             0          3   \n",
      "152     6               1          2.7          6             1          4   \n",
      "321    10              10          6.0          8             0          4   \n",
      "..    ...             ...          ...        ...           ...        ...   \n",
      "534    27               2          2.3          4             0          3   \n",
      "584    31              10          3.4          6             0          4   \n",
      "493    23               2          4.0          8             0          3   \n",
      "527    27               2          2.0          4             3          4   \n",
      "168     6               0          3.0          6             1          4   \n",
      "\n",
      "     Fuel_Consumption_City  Fuel_Consumption_Hwy  Fuel_Consumption_Comd(mpg)  \n",
      "120                   19.9                  15.0                          16  \n",
      "225                   21.4                  15.8                          15  \n",
      "198                   21.6                  15.0                          15  \n",
      "152                   13.3                   9.0                          25  \n",
      "321                   22.4                  16.3                          14  \n",
      "..                     ...                   ...                         ...  \n",
      "534                   14.0                  10.1                          23  \n",
      "584                   16.1                  13.4                          19  \n",
      "493                   15.3                  10.3                          22  \n",
      "527                   13.0                   9.3                          25  \n",
      "168                   13.8                   9.6                          24  \n",
      "\n",
      "[543 rows x 9 columns]\n"
     ]
    }
   ],
   "source": [
    "print(x_train)"
   ]
  },
  {
   "cell_type": "code",
   "execution_count": 81,
   "id": "81cd7318",
   "metadata": {},
   "outputs": [
    {
     "data": {
      "text/html": [
       "<div>\n",
       "<style scoped>\n",
       "    .dataframe tbody tr th:only-of-type {\n",
       "        vertical-align: middle;\n",
       "    }\n",
       "\n",
       "    .dataframe tbody tr th {\n",
       "        vertical-align: top;\n",
       "    }\n",
       "\n",
       "    .dataframe thead th {\n",
       "        text-align: right;\n",
       "    }\n",
       "</style>\n",
       "<table border=\"1\" class=\"dataframe\">\n",
       "  <thead>\n",
       "    <tr style=\"text-align: right;\">\n",
       "      <th></th>\n",
       "      <th>Make</th>\n",
       "      <th>Vehicles_class</th>\n",
       "      <th>Engine_Size</th>\n",
       "      <th>Cylinders</th>\n",
       "      <th>Transmission</th>\n",
       "      <th>Fuel_Type</th>\n",
       "      <th>Fuel_Consumption_City</th>\n",
       "      <th>Fuel_Consumption_Hwy</th>\n",
       "      <th>Fuel_Consumption_Comd(mpg)</th>\n",
       "    </tr>\n",
       "  </thead>\n",
       "  <tbody>\n",
       "    <tr>\n",
       "      <th>0</th>\n",
       "      <td>0</td>\n",
       "      <td>0</td>\n",
       "      <td>1.7</td>\n",
       "      <td>4</td>\n",
       "      <td>0</td>\n",
       "      <td>4</td>\n",
       "      <td>9.3</td>\n",
       "      <td>7.2</td>\n",
       "      <td>34</td>\n",
       "    </tr>\n",
       "    <tr>\n",
       "      <th>1</th>\n",
       "      <td>0</td>\n",
       "      <td>0</td>\n",
       "      <td>1.7</td>\n",
       "      <td>4</td>\n",
       "      <td>3</td>\n",
       "      <td>4</td>\n",
       "      <td>8.9</td>\n",
       "      <td>7.4</td>\n",
       "      <td>34</td>\n",
       "    </tr>\n",
       "    <tr>\n",
       "      <th>2</th>\n",
       "      <td>0</td>\n",
       "      <td>0</td>\n",
       "      <td>3.2</td>\n",
       "      <td>6</td>\n",
       "      <td>1</td>\n",
       "      <td>3</td>\n",
       "      <td>13.7</td>\n",
       "      <td>8.8</td>\n",
       "      <td>25</td>\n",
       "    </tr>\n",
       "    <tr>\n",
       "      <th>3</th>\n",
       "      <td>0</td>\n",
       "      <td>2</td>\n",
       "      <td>3.2</td>\n",
       "      <td>6</td>\n",
       "      <td>1</td>\n",
       "      <td>3</td>\n",
       "      <td>13.8</td>\n",
       "      <td>8.8</td>\n",
       "      <td>24</td>\n",
       "    </tr>\n",
       "    <tr>\n",
       "      <th>4</th>\n",
       "      <td>0</td>\n",
       "      <td>2</td>\n",
       "      <td>3.5</td>\n",
       "      <td>6</td>\n",
       "      <td>0</td>\n",
       "      <td>3</td>\n",
       "      <td>15.0</td>\n",
       "      <td>10.9</td>\n",
       "      <td>22</td>\n",
       "    </tr>\n",
       "    <tr>\n",
       "      <th>...</th>\n",
       "      <td>...</td>\n",
       "      <td>...</td>\n",
       "      <td>...</td>\n",
       "      <td>...</td>\n",
       "      <td>...</td>\n",
       "      <td>...</td>\n",
       "      <td>...</td>\n",
       "      <td>...</td>\n",
       "      <td>...</td>\n",
       "    </tr>\n",
       "    <tr>\n",
       "      <th>674</th>\n",
       "      <td>33</td>\n",
       "      <td>7</td>\n",
       "      <td>2.3</td>\n",
       "      <td>5</td>\n",
       "      <td>3</td>\n",
       "      <td>3</td>\n",
       "      <td>13.0</td>\n",
       "      <td>9.3</td>\n",
       "      <td>25</td>\n",
       "    </tr>\n",
       "    <tr>\n",
       "      <th>675</th>\n",
       "      <td>33</td>\n",
       "      <td>7</td>\n",
       "      <td>2.4</td>\n",
       "      <td>5</td>\n",
       "      <td>0</td>\n",
       "      <td>3</td>\n",
       "      <td>12.8</td>\n",
       "      <td>9.3</td>\n",
       "      <td>25</td>\n",
       "    </tr>\n",
       "    <tr>\n",
       "      <th>676</th>\n",
       "      <td>33</td>\n",
       "      <td>7</td>\n",
       "      <td>2.4</td>\n",
       "      <td>5</td>\n",
       "      <td>3</td>\n",
       "      <td>3</td>\n",
       "      <td>12.5</td>\n",
       "      <td>9.3</td>\n",
       "      <td>26</td>\n",
       "    </tr>\n",
       "    <tr>\n",
       "      <th>677</th>\n",
       "      <td>33</td>\n",
       "      <td>7</td>\n",
       "      <td>2.4</td>\n",
       "      <td>5</td>\n",
       "      <td>1</td>\n",
       "      <td>3</td>\n",
       "      <td>14.4</td>\n",
       "      <td>10.3</td>\n",
       "      <td>23</td>\n",
       "    </tr>\n",
       "    <tr>\n",
       "      <th>678</th>\n",
       "      <td>33</td>\n",
       "      <td>10</td>\n",
       "      <td>2.4</td>\n",
       "      <td>5</td>\n",
       "      <td>1</td>\n",
       "      <td>3</td>\n",
       "      <td>14.8</td>\n",
       "      <td>11.4</td>\n",
       "      <td>21</td>\n",
       "    </tr>\n",
       "  </tbody>\n",
       "</table>\n",
       "<p>679 rows × 9 columns</p>\n",
       "</div>"
      ],
      "text/plain": [
       "     Make  Vehicles_class  Engine_Size  Cylinders  Transmission  Fuel_Type  \\\n",
       "0       0               0          1.7          4             0          4   \n",
       "1       0               0          1.7          4             3          4   \n",
       "2       0               0          3.2          6             1          3   \n",
       "3       0               2          3.2          6             1          3   \n",
       "4       0               2          3.5          6             0          3   \n",
       "..    ...             ...          ...        ...           ...        ...   \n",
       "674    33               7          2.3          5             3          3   \n",
       "675    33               7          2.4          5             0          3   \n",
       "676    33               7          2.4          5             3          3   \n",
       "677    33               7          2.4          5             1          3   \n",
       "678    33              10          2.4          5             1          3   \n",
       "\n",
       "     Fuel_Consumption_City  Fuel_Consumption_Hwy  Fuel_Consumption_Comd(mpg)  \n",
       "0                      9.3                   7.2                          34  \n",
       "1                      8.9                   7.4                          34  \n",
       "2                     13.7                   8.8                          25  \n",
       "3                     13.8                   8.8                          24  \n",
       "4                     15.0                  10.9                          22  \n",
       "..                     ...                   ...                         ...  \n",
       "674                   13.0                   9.3                          25  \n",
       "675                   12.8                   9.3                          25  \n",
       "676                   12.5                   9.3                          26  \n",
       "677                   14.4                  10.3                          23  \n",
       "678                   14.8                  11.4                          21  \n",
       "\n",
       "[679 rows x 9 columns]"
      ]
     },
     "execution_count": 81,
     "metadata": {},
     "output_type": "execute_result"
    }
   ],
   "source": [
    "x"
   ]
  },
  {
   "cell_type": "code",
   "execution_count": 82,
   "id": "425cc4e1",
   "metadata": {},
   "outputs": [],
   "source": [
    "lr=LinearRegression()\n",
    "lr=lr.fit(x_train,y_train)"
   ]
  },
  {
   "cell_type": "code",
   "execution_count": 83,
   "id": "41011e81",
   "metadata": {},
   "outputs": [
    {
     "data": {
      "text/html": [
       "<div>\n",
       "<style scoped>\n",
       "    .dataframe tbody tr th:only-of-type {\n",
       "        vertical-align: middle;\n",
       "    }\n",
       "\n",
       "    .dataframe tbody tr th {\n",
       "        vertical-align: top;\n",
       "    }\n",
       "\n",
       "    .dataframe thead th {\n",
       "        text-align: right;\n",
       "    }\n",
       "</style>\n",
       "<table border=\"1\" class=\"dataframe\">\n",
       "  <thead>\n",
       "    <tr style=\"text-align: right;\">\n",
       "      <th></th>\n",
       "      <th>Make</th>\n",
       "      <th>Vehicles_class</th>\n",
       "      <th>Engine_Size</th>\n",
       "      <th>Cylinders</th>\n",
       "      <th>Transmission</th>\n",
       "      <th>Fuel_Type</th>\n",
       "      <th>Fuel_Consumption_City</th>\n",
       "      <th>Fuel_Consumption_Hwy</th>\n",
       "      <th>Fuel_Consumption_Comd(mpg)</th>\n",
       "    </tr>\n",
       "  </thead>\n",
       "  <tbody>\n",
       "    <tr>\n",
       "      <th>120</th>\n",
       "      <td>5</td>\n",
       "      <td>13</td>\n",
       "      <td>5.7</td>\n",
       "      <td>8</td>\n",
       "      <td>0</td>\n",
       "      <td>4</td>\n",
       "      <td>19.9</td>\n",
       "      <td>15.0</td>\n",
       "      <td>16</td>\n",
       "    </tr>\n",
       "    <tr>\n",
       "      <th>225</th>\n",
       "      <td>8</td>\n",
       "      <td>13</td>\n",
       "      <td>5.2</td>\n",
       "      <td>8</td>\n",
       "      <td>0</td>\n",
       "      <td>4</td>\n",
       "      <td>21.4</td>\n",
       "      <td>15.8</td>\n",
       "      <td>15</td>\n",
       "    </tr>\n",
       "    <tr>\n",
       "      <th>198</th>\n",
       "      <td>8</td>\n",
       "      <td>10</td>\n",
       "      <td>5.9</td>\n",
       "      <td>8</td>\n",
       "      <td>0</td>\n",
       "      <td>3</td>\n",
       "      <td>21.6</td>\n",
       "      <td>15.0</td>\n",
       "      <td>15</td>\n",
       "    </tr>\n",
       "    <tr>\n",
       "      <th>152</th>\n",
       "      <td>6</td>\n",
       "      <td>1</td>\n",
       "      <td>2.7</td>\n",
       "      <td>6</td>\n",
       "      <td>1</td>\n",
       "      <td>4</td>\n",
       "      <td>13.3</td>\n",
       "      <td>9.0</td>\n",
       "      <td>25</td>\n",
       "    </tr>\n",
       "    <tr>\n",
       "      <th>321</th>\n",
       "      <td>10</td>\n",
       "      <td>10</td>\n",
       "      <td>6.0</td>\n",
       "      <td>8</td>\n",
       "      <td>0</td>\n",
       "      <td>4</td>\n",
       "      <td>22.4</td>\n",
       "      <td>16.3</td>\n",
       "      <td>14</td>\n",
       "    </tr>\n",
       "    <tr>\n",
       "      <th>...</th>\n",
       "      <td>...</td>\n",
       "      <td>...</td>\n",
       "      <td>...</td>\n",
       "      <td>...</td>\n",
       "      <td>...</td>\n",
       "      <td>...</td>\n",
       "      <td>...</td>\n",
       "      <td>...</td>\n",
       "      <td>...</td>\n",
       "    </tr>\n",
       "    <tr>\n",
       "      <th>534</th>\n",
       "      <td>27</td>\n",
       "      <td>2</td>\n",
       "      <td>2.3</td>\n",
       "      <td>4</td>\n",
       "      <td>0</td>\n",
       "      <td>3</td>\n",
       "      <td>14.0</td>\n",
       "      <td>10.1</td>\n",
       "      <td>23</td>\n",
       "    </tr>\n",
       "    <tr>\n",
       "      <th>584</th>\n",
       "      <td>31</td>\n",
       "      <td>10</td>\n",
       "      <td>3.4</td>\n",
       "      <td>6</td>\n",
       "      <td>0</td>\n",
       "      <td>4</td>\n",
       "      <td>16.1</td>\n",
       "      <td>13.4</td>\n",
       "      <td>19</td>\n",
       "    </tr>\n",
       "    <tr>\n",
       "      <th>493</th>\n",
       "      <td>23</td>\n",
       "      <td>2</td>\n",
       "      <td>4.0</td>\n",
       "      <td>8</td>\n",
       "      <td>0</td>\n",
       "      <td>3</td>\n",
       "      <td>15.3</td>\n",
       "      <td>10.3</td>\n",
       "      <td>22</td>\n",
       "    </tr>\n",
       "    <tr>\n",
       "      <th>527</th>\n",
       "      <td>27</td>\n",
       "      <td>2</td>\n",
       "      <td>2.0</td>\n",
       "      <td>4</td>\n",
       "      <td>3</td>\n",
       "      <td>4</td>\n",
       "      <td>13.0</td>\n",
       "      <td>9.3</td>\n",
       "      <td>25</td>\n",
       "    </tr>\n",
       "    <tr>\n",
       "      <th>168</th>\n",
       "      <td>6</td>\n",
       "      <td>0</td>\n",
       "      <td>3.0</td>\n",
       "      <td>6</td>\n",
       "      <td>1</td>\n",
       "      <td>4</td>\n",
       "      <td>13.8</td>\n",
       "      <td>9.6</td>\n",
       "      <td>24</td>\n",
       "    </tr>\n",
       "  </tbody>\n",
       "</table>\n",
       "<p>543 rows × 9 columns</p>\n",
       "</div>"
      ],
      "text/plain": [
       "     Make  Vehicles_class  Engine_Size  Cylinders  Transmission  Fuel_Type  \\\n",
       "120     5              13          5.7          8             0          4   \n",
       "225     8              13          5.2          8             0          4   \n",
       "198     8              10          5.9          8             0          3   \n",
       "152     6               1          2.7          6             1          4   \n",
       "321    10              10          6.0          8             0          4   \n",
       "..    ...             ...          ...        ...           ...        ...   \n",
       "534    27               2          2.3          4             0          3   \n",
       "584    31              10          3.4          6             0          4   \n",
       "493    23               2          4.0          8             0          3   \n",
       "527    27               2          2.0          4             3          4   \n",
       "168     6               0          3.0          6             1          4   \n",
       "\n",
       "     Fuel_Consumption_City  Fuel_Consumption_Hwy  Fuel_Consumption_Comd(mpg)  \n",
       "120                   19.9                  15.0                          16  \n",
       "225                   21.4                  15.8                          15  \n",
       "198                   21.6                  15.0                          15  \n",
       "152                   13.3                   9.0                          25  \n",
       "321                   22.4                  16.3                          14  \n",
       "..                     ...                   ...                         ...  \n",
       "534                   14.0                  10.1                          23  \n",
       "584                   16.1                  13.4                          19  \n",
       "493                   15.3                  10.3                          22  \n",
       "527                   13.0                   9.3                          25  \n",
       "168                   13.8                   9.6                          24  \n",
       "\n",
       "[543 rows x 9 columns]"
      ]
     },
     "execution_count": 83,
     "metadata": {},
     "output_type": "execute_result"
    }
   ],
   "source": [
    "x_train"
   ]
  },
  {
   "cell_type": "code",
   "execution_count": 84,
   "id": "f7a1c11c",
   "metadata": {},
   "outputs": [
    {
     "data": {
      "text/plain": [
       "(136, 1)"
      ]
     },
     "execution_count": 84,
     "metadata": {},
     "output_type": "execute_result"
    }
   ],
   "source": [
    "y_pred=lr.predict(x_test)\n",
    "y_pred.shape"
   ]
  },
  {
   "cell_type": "code",
   "execution_count": 85,
   "id": "9e3e83e1",
   "metadata": {},
   "outputs": [
    {
     "name": "stdout",
     "output_type": "stream",
     "text": [
      "284    361\n",
      "448    269\n",
      "199    299\n",
      "340    191\n",
      "258    340\n",
      "      ... \n",
      "398    276\n",
      "375    306\n",
      "330    283\n",
      "141    245\n",
      "130    396\n",
      "Name: CO2_Emissions, Length: 136, dtype: int64\n"
     ]
    }
   ],
   "source": [
    "y_pred\n",
    "print(y_test['CO2_Emissions'])"
   ]
  },
  {
   "cell_type": "code",
   "execution_count": 86,
   "id": "5a2bb385",
   "metadata": {},
   "outputs": [
    {
     "data": {
      "text/plain": [
       "(136, 1)"
      ]
     },
     "execution_count": 86,
     "metadata": {},
     "output_type": "execute_result"
    }
   ],
   "source": [
    "y_pred.shape"
   ]
  },
  {
   "cell_type": "code",
   "execution_count": 87,
   "id": "2275a42f",
   "metadata": {},
   "outputs": [
    {
     "data": {
      "text/plain": [
       "(136, 1)"
      ]
     },
     "execution_count": 87,
     "metadata": {},
     "output_type": "execute_result"
    }
   ],
   "source": [
    "y_test.shape"
   ]
  },
  {
   "cell_type": "code",
   "execution_count": 88,
   "id": "f39435dd",
   "metadata": {},
   "outputs": [
    {
     "name": "stderr",
     "output_type": "stream",
     "text": [
      "C:\\Users\\saivi\\AppData\\Local\\Temp\\ipykernel_10564\\2720103329.py:4: DataConversionWarning: A column-vector y was passed when a 1d array was expected. Please change the shape of y to (n_samples,), for example using ravel().\n",
      "  randfor.fit(x_train, y_train)\n"
     ]
    },
    {
     "name": "stdout",
     "output_type": "stream",
     "text": [
      "[357 271 299 191 338 373 219 294 265 205 267 278 290 435 214 347 338 347\n",
      " 235 343 255 363 350 373 239 192 265 191 304 311 391 258 265 283 278 235\n",
      " 271 239 398 329 292 274 196 271 297 271 221 239 275 251 223 239 262 269\n",
      " 311 306 359 301 301 327 294 391 357 396 274 363 167 294 453 253 253 306\n",
      " 403 380 407 221 306 276 363 251 275 382 389 343 237 350 389 260 253 191\n",
      " 336 251 221 363 260 271 166 251 299 324 331 308 246 290 400 317 357 311\n",
      " 299 271 315 308 366 377 288 292 223 281 271 274 283 299 306 373 363 428\n",
      " 313 292 386 322 421 274 306 283 275 391]\n"
     ]
    }
   ],
   "source": [
    "from sklearn.ensemble import RandomForestClassifier\n",
    "randfor = RandomForestClassifier(n_estimators=100, random_state=0)\n",
    "\n",
    "randfor.fit(x_train, y_train)\n",
    "\n",
    "y_pred_rf = randfor.predict(x_test)\n",
    "print(y_pred_rf)"
   ]
  },
  {
   "cell_type": "code",
   "execution_count": 89,
   "id": "00c32669",
   "metadata": {},
   "outputs": [
    {
     "name": "stdout",
     "output_type": "stream",
     "text": [
      "MAE:  5.327868570518991\n",
      "MSE: 260.824313449142\n",
      "RMSE: 16.150056143838697\n"
     ]
    }
   ],
   "source": [
    "from sklearn.metrics import mean_squared_error\n",
    "from sklearn.metrics import mean_absolute_error\n",
    "\n",
    "print(\"MAE: \",mean_absolute_error(y_test,y_pred))\n",
    "print(\"MSE:\",mean_squared_error(y_test,y_pred))\n",
    "print(\"RMSE:\",np.sqrt(mean_squared_error(y_test,y_pred)))"
   ]
  },
  {
   "cell_type": "code",
   "execution_count": 90,
   "id": "e347637b",
   "metadata": {},
   "outputs": [
    {
     "data": {
      "text/plain": [
       "92.62052609242846"
      ]
     },
     "execution_count": 90,
     "metadata": {},
     "output_type": "execute_result"
    }
   ],
   "source": [
    "from sklearn.metrics import r2_score\n",
    "r2_score(y_test,y_pred)*100\n"
   ]
  },
  {
   "cell_type": "code",
   "execution_count": 91,
   "id": "3ed4fcb3",
   "metadata": {},
   "outputs": [
    {
     "data": {
      "text/plain": [
       "97.87054386964516"
      ]
     },
     "execution_count": 91,
     "metadata": {},
     "output_type": "execute_result"
    }
   ],
   "source": [
    "r2_score(y_test,y_pred_rf)*100"
   ]
  },
  {
   "cell_type": "code",
   "execution_count": 92,
   "id": "52d3728a",
   "metadata": {},
   "outputs": [],
   "source": [
    "score_lr=r2_score(y_test,y_pred)\n",
    "score_rf=r2_score(y_test,y_pred_rf)"
   ]
  },
  {
   "cell_type": "code",
   "execution_count": 93,
   "id": "a36ebaab",
   "metadata": {},
   "outputs": [
    {
     "name": "stderr",
     "output_type": "stream",
     "text": [
      "C:\\Users\\saivi\\AppData\\Local\\Programs\\Python\\Python310\\lib\\site-packages\\seaborn\\_decorators.py:36: FutureWarning: Pass the following variables as keyword args: x, y. From version 0.12, the only valid positional argument will be `data`, and passing other arguments without an explicit keyword will result in an error or misinterpretation.\n",
      "  warnings.warn(\n"
     ]
    },
    {
     "data": {
      "text/plain": [
       "<AxesSubplot:xlabel='Algorithms', ylabel='Accuracy score'>"
      ]
     },
     "execution_count": 93,
     "metadata": {},
     "output_type": "execute_result"
    },
    {
     "data": {
      "image/png": "[encoded data removed]",
      "text/plain": [
       "<Figure size 1080x360 with 1 Axes>"
      ]
     },
     "metadata": {},
     "output_type": "display_data"
    }
   ],
   "source": [
    "scores = [score_lr,score_rf]\n",
    "algorithms = [\"Linear Regression\",\"Random Forest\"] \n",
    "sns.set(rc={'figure.figsize':(15,5)})\n",
    "plt.xlabel(\"Algorithms\")\n",
    "plt.ylabel(\"Accuracy score\")\n",
    "\n",
    "sns.barplot(algorithms,scores)"
   ]
  },
  {
   "cell_type": "code",
   "execution_count": 94,
   "id": "b8a95510",
   "metadata": {},
   "outputs": [],
   "source": [
    "pickle.dump(randfor,open('co2.pkl','wb'))"
   ]
  },
  {
   "cell_type": "code",
   "execution_count": null,
   "id": "473a9cb4",
   "metadata": {},
   "outputs": [],
   "source": []
  }
 ],
 "metadata": {
  "kernelspec": {
   "display_name": "Python 3 (ipykernel)",
   "language": "python",
   "name": "python3"
  },
  "language_info": {
   "codemirror_mode": {
    "name": "ipython",
    "version": 3
   },
   "file_extension": ".py",
   "mimetype": "text/x-python",
   "name": "python",
   "nbconvert_exporter": "python",
   "pygments_lexer": "ipython3",
   "version": "3.10.2"
  }
 },
 "nbformat": 4,
 "nbformat_minor": 5
}
